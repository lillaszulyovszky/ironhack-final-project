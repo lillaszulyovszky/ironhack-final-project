{
    "cells": [
        {
            "cell_type": "code",
            "execution_count": null,
            "source": [],
            "outputs": [],
            "metadata": {}
        }
    ],
    "metadata": {
        "orig_nbformat": 4,
        "language_info": {
            "name": "python",
            "version": "3.8.5"
        },
        "kernelspec": {
            "name": "python3",
            "display_name": "Python 3.8.5 64-bit ('base': conda)"
        },
        "interpreter": {
            "hash": "efc8bafc4d758f486988f8d2efdda8600090a7a8cf09b7978310c03f7f9bdeb6"
        }
    },
    "nbformat": 4,
    "nbformat_minor": 2
}