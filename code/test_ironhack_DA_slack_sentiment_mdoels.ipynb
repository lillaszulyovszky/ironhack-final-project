{
    "cells": [
        {
            "cell_type": "code",
            "execution_count": 9,
            "source": [
                "# basic libraries\n",
                "import itertools\n",
                "import re\n",
                "import string\n",
                "\n",
                "# data processing \n",
                "import collections\n",
                "import numpy as np\n",
                "import pandas as pd\n",
                "\n",
                "# natural language pre-processing \n",
                "from textblob import TextBlob\n",
                "import nltk\n",
                "nltk.download('stopwords')\n",
                "nltk.download('wordnet')\n",
                "from nltk import word_tokenize, sent_tokenize\n",
                "from nltk.corpus import stopwords\n",
                "from nltk.stem import LancasterStemmer, WordNetLemmatizer, PorterStemmer\n",
                "\n",
                "# ML pipelines\n",
                "from transformers import pipeline\n",
                "\n",
                "# sentiment analysis\n",
                "from vaderSentiment.vaderSentiment import SentimentIntensityAnalyzer\n",
                "\n",
                "# data visualization\n",
                "import seaborn as sb\n",
                "import matplotlib.pyplot as plt\n",
                "from wordcloud import WordCloud, STOPWORDS\n"
            ],
            "outputs": [
                {
                    "output_type": "stream",
                    "name": "stderr",
                    "text": [
                        "[nltk_data] Downloading package stopwords to\n",
                        "[nltk_data]     /Users/macarthur/nltk_data...\n",
                        "[nltk_data]   Package stopwords is already up-to-date!\n",
                        "[nltk_data] Downloading package wordnet to\n",
                        "[nltk_data]     /Users/macarthur/nltk_data...\n",
                        "[nltk_data]   Package wordnet is already up-to-date!\n"
                    ]
                }
            ],
            "metadata": {}
        },
        {
            "cell_type": "code",
            "execution_count": 5,
            "source": [
                "# read csv\n",
                "df = pd.read_csv('../csv/data_clean.csv')\n",
                "df_copy = df.copy()"
            ],
            "outputs": [],
            "metadata": {}
        },
        {
            "cell_type": "code",
            "execution_count": 10,
            "source": [
                "classifier = pipeline(\"text-classification\",model='bhadresh-savani/albert-base-v2-emotion', return_all_scores=True)\n",
                "prediction = classifier(\"I love using transformers. The best part is wide range of support and its easy to use\", )\n",
                "print(prediction)"
            ],
            "outputs": [
                {
                    "output_type": "stream",
                    "name": "stderr",
                    "text": [
                        "Downloading: 100%|██████████| 1.11k/1.11k [00:00<00:00, 337kB/s]\n",
                        "Downloading: 100%|██████████| 46.8M/46.8M [00:06<00:00, 6.80MB/s]\n",
                        "Downloading: 100%|██████████| 1.31M/1.31M [00:00<00:00, 1.64MB/s]\n",
                        "Downloading: 100%|██████████| 245/245 [00:00<00:00, 114kB/s]\n",
                        "Downloading: 100%|██████████| 428/428 [00:00<00:00, 210kB/s]\n"
                    ]
                },
                {
                    "output_type": "stream",
                    "name": "stdout",
                    "text": [
                        "[[{'label': 'sadness', 'score': 0.010403607971966267}, {'label': 'joy', 'score': 0.8902178406715393}, {'label': 'love', 'score': 0.0425327830016613}, {'label': 'anger', 'score': 0.04129811003804207}, {'label': 'fear', 'score': 0.011772057972848415}, {'label': 'surprise', 'score': 0.003775620134547353}]]\n"
                    ]
                }
            ],
            "metadata": {}
        }
    ],
    "metadata": {
        "orig_nbformat": 4,
        "language_info": {
            "name": "python",
            "version": "3.8.5",
            "mimetype": "text/x-python",
            "codemirror_mode": {
                "name": "ipython",
                "version": 3
            },
            "pygments_lexer": "ipython3",
            "nbconvert_exporter": "python",
            "file_extension": ".py"
        },
        "kernelspec": {
            "name": "python3",
            "display_name": "Python 3.8.5 64-bit ('base': conda)"
        },
        "interpreter": {
            "hash": "efc8bafc4d758f486988f8d2efdda8600090a7a8cf09b7978310c03f7f9bdeb6"
        }
    },
    "nbformat": 4,
    "nbformat_minor": 2
}