{
    "cells": [
        {
            "cell_type": "code",
            "execution_count": 9,
            "source": [
                "# basic libraries\n",
                "import itertools\n",
                "import re\n",
                "import string\n",
                "\n",
                "# data processing \n",
                "import collections\n",
                "import numpy as np\n",
                "import pandas as pd\n",
                "\n",
                "# natural language pre-processing \n",
                "from textblob import TextBlob\n",
                "import nltk\n",
                "nltk.download('stopwords')\n",
                "nltk.download('wordnet')\n",
                "from nltk import word_tokenize, sent_tokenize\n",
                "from nltk.corpus import stopwords\n",
                "from nltk.stem import LancasterStemmer, WordNetLemmatizer, PorterStemmer\n",
                "\n",
                "# ML pipelines\n",
                "from transformers import pipeline\n",
                "\n",
                "# sentiment analysis\n",
                "from vaderSentiment.vaderSentiment import SentimentIntensityAnalyzer\n",
                "\n",
                "# data visualization\n",
                "import seaborn as sb\n",
                "import matplotlib.pyplot as plt\n",
                "from wordcloud import WordCloud, STOPWORDS\n"
            ],
            "outputs": [
                {
                    "output_type": "stream",
                    "name": "stderr",
                    "text": [
                        "[nltk_data] Downloading package stopwords to\n",
                        "[nltk_data]     /Users/macarthur/nltk_data...\n",
                        "[nltk_data]   Package stopwords is already up-to-date!\n",
                        "[nltk_data] Downloading package wordnet to\n",
                        "[nltk_data]     /Users/macarthur/nltk_data...\n",
                        "[nltk_data]   Package wordnet is already up-to-date!\n"
                    ]
                }
            ],
            "metadata": {}
        },
        {
            "cell_type": "code",
            "execution_count": 12,
            "source": [
                "# read csv\n",
                "df = pd.read_csv('../csv/data_clean.csv')\n",
                "df_sent = df.copy()\n",
                "\n",
                "def clean_links(df):\n",
                "#replace URL of a text\n",
                "    df_sent['text'] = df_sent['text'].str.replace('http[s]?://(?:[a-zA-Z]|[0-9]|[$-_@.&+]|[!*\\(\\),]|(?:%[0-9a-fA-F][0-9a-fA-F]))+', ' ')\n",
                "\n",
                "clean_links(df_sent)\n",
                "df_sent['text'].head()\n",
                "df_sent['text'] = df_sent['text'].astype(str)"
            ],
            "outputs": [],
            "metadata": {}
        },
        {
            "cell_type": "markdown",
            "source": [
                "### example cells for are testing hugging face model- remove when connected to real corpora"
            ],
            "metadata": {}
        },
        {
            "cell_type": "code",
            "execution_count": 10,
            "source": [
                "classifier = pipeline(\"text-classification\",model='bhadresh-savani/albert-base-v2-emotion', return_all_scores=True)\n",
                "prediction = classifier(\"I love using transformers. The best part is wide range of support and its easy to use\", )\n",
                "print(prediction)"
            ],
            "outputs": [
                {
                    "output_type": "stream",
                    "name": "stderr",
                    "text": [
                        "Downloading: 100%|██████████| 1.11k/1.11k [00:00<00:00, 337kB/s]\n",
                        "Downloading: 100%|██████████| 46.8M/46.8M [00:06<00:00, 6.80MB/s]\n",
                        "Downloading: 100%|██████████| 1.31M/1.31M [00:00<00:00, 1.64MB/s]\n",
                        "Downloading: 100%|██████████| 245/245 [00:00<00:00, 114kB/s]\n",
                        "Downloading: 100%|██████████| 428/428 [00:00<00:00, 210kB/s]\n"
                    ]
                },
                {
                    "output_type": "stream",
                    "name": "stdout",
                    "text": [
                        "[[{'label': 'sadness', 'score': 0.010403607971966267}, {'label': 'joy', 'score': 0.8902178406715393}, {'label': 'love', 'score': 0.0425327830016613}, {'label': 'anger', 'score': 0.04129811003804207}, {'label': 'fear', 'score': 0.011772057972848415}, {'label': 'surprise', 'score': 0.003775620134547353}]]\n"
                    ]
                }
            ],
            "metadata": {}
        },
        {
            "cell_type": "code",
            "execution_count": 105,
            "source": [
                "albert_column_names = [\"sadness\", \"joy\", \"love\", \"anger\", \"fear\", \"surprise\"]\n",
                "df_albert = pd.DataFrame(columns = albert_column_names)\n",
                "score_sadness = []\n",
                "score_joy = []\n",
                "score_love = []\n",
                "score_anger = []\n",
                "score_fear = []\n",
                "score_surprise = []\n",
                "for i in df_sent['text']:\n",
                "    pred = classifier(i)\n",
                "    pred = pred[0]\n",
                "    score_sadness.append(pred[0]['score'])\n",
                "    score_joy.append(pred[1]['score'])\n",
                "    score_love.append(pred[2]['score'])\n",
                "    score_anger.append(pred[3]['score'])\n",
                "    score_fear.append(pred[4]['score'])\n",
                "    score_surprise.append(pred[5]['score'])\n",
                "    # pred_l.append(pred[0]['socore'])"
            ],
            "outputs": [],
            "metadata": {}
        },
        {
            "cell_type": "code",
            "execution_count": 103,
            "source": [
                "df_albert[\"sadness\"] = score_sadness\n",
                "df_albert[\"joy\"] = score_joy\n",
                "df_albert[\"love\"] = score_love\n",
                "df_albert[\"anger\"] = score_anger\n",
                "df_albert[\"fear\"] = score_fear\n",
                "df_albert[\"surprise\"] = score_surprise"
            ],
            "outputs": [],
            "metadata": {}
        },
        {
            "cell_type": "code",
            "execution_count": 104,
            "source": [
                "df_albert"
            ],
            "outputs": [
                {
                    "output_type": "execute_result",
                    "data": {
                        "text/plain": [
                            "    sadness       joy      love     anger      fear  surprise\n",
                            "0  0.070398  0.100583  0.017333  0.594864  0.203451  0.013372\n",
                            "1  0.055376  0.574590  0.018835  0.214630  0.120774  0.015796"
                        ],
                        "text/html": [
                            "<div>\n",
                            "<style scoped>\n",
                            "    .dataframe tbody tr th:only-of-type {\n",
                            "        vertical-align: middle;\n",
                            "    }\n",
                            "\n",
                            "    .dataframe tbody tr th {\n",
                            "        vertical-align: top;\n",
                            "    }\n",
                            "\n",
                            "    .dataframe thead th {\n",
                            "        text-align: right;\n",
                            "    }\n",
                            "</style>\n",
                            "<table border=\"1\" class=\"dataframe\">\n",
                            "  <thead>\n",
                            "    <tr style=\"text-align: right;\">\n",
                            "      <th></th>\n",
                            "      <th>sadness</th>\n",
                            "      <th>joy</th>\n",
                            "      <th>love</th>\n",
                            "      <th>anger</th>\n",
                            "      <th>fear</th>\n",
                            "      <th>surprise</th>\n",
                            "    </tr>\n",
                            "  </thead>\n",
                            "  <tbody>\n",
                            "    <tr>\n",
                            "      <th>0</th>\n",
                            "      <td>0.070398</td>\n",
                            "      <td>0.100583</td>\n",
                            "      <td>0.017333</td>\n",
                            "      <td>0.594864</td>\n",
                            "      <td>0.203451</td>\n",
                            "      <td>0.013372</td>\n",
                            "    </tr>\n",
                            "    <tr>\n",
                            "      <th>1</th>\n",
                            "      <td>0.055376</td>\n",
                            "      <td>0.574590</td>\n",
                            "      <td>0.018835</td>\n",
                            "      <td>0.214630</td>\n",
                            "      <td>0.120774</td>\n",
                            "      <td>0.015796</td>\n",
                            "    </tr>\n",
                            "  </tbody>\n",
                            "</table>\n",
                            "</div>"
                        ]
                    },
                    "metadata": {},
                    "execution_count": 104
                }
            ],
            "metadata": {}
        }
    ],
    "metadata": {
        "orig_nbformat": 4,
        "language_info": {
            "name": "python",
            "version": "3.8.5",
            "mimetype": "text/x-python",
            "codemirror_mode": {
                "name": "ipython",
                "version": 3
            },
            "pygments_lexer": "ipython3",
            "nbconvert_exporter": "python",
            "file_extension": ".py"
        },
        "kernelspec": {
            "name": "python3",
            "display_name": "Python 3.8.5 64-bit ('base': conda)"
        },
        "interpreter": {
            "hash": "efc8bafc4d758f486988f8d2efdda8600090a7a8cf09b7978310c03f7f9bdeb6"
        }
    },
    "nbformat": 4,
    "nbformat_minor": 2
}